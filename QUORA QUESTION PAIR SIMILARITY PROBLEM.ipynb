{
 "cells": [
  {
   "cell_type": "markdown",
   "metadata": {},
   "source": [
    "# Quora Question Pairs\n"
   ]
  },
  {
   "cell_type": "markdown",
   "metadata": {},
   "source": [
    "# 1. Business Problem\n",
    "\n",
    "1.1 Description\n",
    "\n",
    "Quora is a place to gain and share knowledge—about anything. It’s a platform to ask questions and connect with people who contribute unique insights and quality answers. This empowers people to learn from each other and to better understand the world.\n",
    "Over 100 million people visit Quora every month, so it's no surprise that many people ask similarly worded questions. Multiple questions with the same intent can cause seekers to spend more time finding the best answer to their question, and make writers feel they need to answer multiple versions of the same question. Quora values canonical questions because they provide a better experience to active seekers and writers, and offer more value to both of these groups in the long term.\n",
    "\n",
    "Credits: Kaggle\n",
    "\n"
   ]
  },
  {
   "cell_type": "markdown",
   "metadata": {},
   "source": [
    "# Problem Statement"
   ]
  },
  {
   "cell_type": "markdown",
   "metadata": {},
   "source": [
    "Identify which questions asked on Quora are duplicates of questions that have already been asked.\n",
    "This could be useful to instantly provide answers to questions that have already been answered.\n",
    "We are tasked with predicting whether a pair of questions are duplicates or not.\n"
   ]
  },
  {
   "cell_type": "markdown",
   "metadata": {},
   "source": [
    "# 1.2 Sources/Useful Links"
   ]
  },
  {
   "cell_type": "markdown",
   "metadata": {},
   "source": [
    "\n",
    "Source : https://www.kaggle.com/c/quora-question-pairs \n",
    "\n",
    "Useful Links\n",
    "Discussions : https://www.kaggle.com/anokas/data-analysis-xgboost-starter-0-35460-lb/comments\n",
    "Kaggle Winning Solution and other approaches: https://www.dropbox.com/sh/93968nfnrzh8bp5/AACZdtsApc1QSTQc7X0H3QZ5a?dl=0\n",
    "Blog 1 : https://engineering.quora.com/Semantic-Question-Matching-with-Deep-Learning\n",
    "Blog 2 : https://towardsdatascience.com/identifying-duplicate-questions-on-quora-top-12-on-kaggle-4c1cf93f1c30\n"
   ]
  },
  {
   "cell_type": "markdown",
   "metadata": {},
   "source": [
    "# 1.3 Real world/Business Objectives and Constraints"
   ]
  },
  {
   "cell_type": "markdown",
   "metadata": {},
   "source": [
    "\n",
    "The cost of a mis-classification can be very high.\n",
    "You would want a probability of a pair of questions to be duplicates so that you can choose any threshold of choice.\n",
    "No strict latency concerns.\n",
    "Interpretability is partially important.\n"
   ]
  },
  {
   "cell_type": "markdown",
   "metadata": {},
   "source": [
    "# 2. Machine Learning Problem"
   ]
  },
  {
   "cell_type": "markdown",
   "metadata": {},
   "source": [
    "# 2.1 Data\n",
    "2.1.1 Data Overview\n",
    "- Data will be in a file Train.csv \n",
    "- Train.csv contains 5 columns : qid1, qid2, question1, question2, is_duplicate \n",
    "- Size of Train.csv - 60MB \n",
    "- Number of rows in Train.csv = 404,290"
   ]
  },
  {
   "cell_type": "markdown",
   "metadata": {},
   "source": [
    "# 2.1.2 Example Data point"
   ]
  },
  {
   "cell_type": "markdown",
   "metadata": {},
   "source": [
    "\n",
    "\n",
    "\"id\",\"qid1\",\"qid2\",\"question1\",\"question2\",\"is_duplicate\"\n",
    "\"0\",\"1\",\"2\",\"What is the step by step guide to invest in share market in india?\",\"What is the step by step guide to invest in share market?\",\"0\"\n",
    "\"1\",\"3\",\"4\",\"What is the story of Kohinoor (Koh-i-Noor) Diamond?\",\"What would happen if the Indian government stole the Kohinoor (Koh-i-Noor) diamond back?\",\"0\"\n",
    "\"7\",\"15\",\"16\",\"How can I be a good geologist?\",\"What should I do to be a great geologist?\",\"1\"\n",
    "\"11\",\"23\",\"24\",\"How do I read and find my YouTube comments?\",\"How can I see all my Youtube comments?\",\"1\"\n",
    "2.2 Mapping the real world problem to an ML problem\n",
    "2.2.1 Type of Machine Leaning Problem\n",
    "It is a binary classification problem, for a given pair of questions we need to predict if they are duplicate or not.\n"
   ]
  },
  {
   "cell_type": "markdown",
   "metadata": {},
   "source": [
    "# 2.2.2 Performance Metric\n",
    "Source: https://www.kaggle.com/c/quora-question-pairs#evaluation\n",
    "\n",
    "Metric(s):\n",
    "\n",
    "log-loss : https://www.kaggle.com/wiki/LogarithmicLoss\n",
    "Binary Confusion Matrix\n"
   ]
  },
  {
   "cell_type": "markdown",
   "metadata": {},
   "source": [
    "# 2.3 Train and Test Construction\n",
    "We build train and test by randomly splitting in the ratio of 70:30 or 80:20 whatever we choose as we have sufficient points to work with.\n"
   ]
  },
  {
   "cell_type": "markdown",
   "metadata": {},
   "source": [
    "# 2.1.2 Example Data point"
   ]
  },
  {
   "cell_type": "code",
   "execution_count": 1,
   "metadata": {},
   "outputs": [],
   "source": [
    "df<-read.csv(\"E:/Quora Question Pair/R/train.csv\",na.strings='')\n",
    "df<-df[sample(100000),]"
   ]
  },
  {
   "cell_type": "code",
   "execution_count": null,
   "metadata": {},
   "outputs": [],
   "source": [
    "write.csv(df,\"E:/Quora Question Pair/R/sample.csv\")"
   ]
  },
  {
   "cell_type": "code",
   "execution_count": 2,
   "metadata": {},
   "outputs": [
    {
     "name": "stdout",
     "output_type": "stream",
     "text": [
      "[1] \"No of rows are: 100000 and No of columns are: 6\"\n"
     ]
    }
   ],
   "source": [
    "\n",
    "print(paste(\"No of rows are:\",dim(df)[1],\"and\",\"No of columns are:\",\n",
    "            dim(df)[2]))"
   ]
  },
  {
   "cell_type": "markdown",
   "metadata": {},
   "source": [
    "# Exploratory Data Analysis"
   ]
  },
  {
   "cell_type": "code",
   "execution_count": 1,
   "metadata": {},
   "outputs": [
    {
     "name": "stderr",
     "output_type": "stream",
     "text": [
      "Loading required package: qdapDictionaries\n",
      "Loading required package: qdapRegex\n",
      "Loading required package: qdapTools\n",
      "Loading required package: RColorBrewer\n",
      "\n",
      "Attaching package: 'qdap'\n",
      "\n",
      "The following object is masked from 'package:base':\n",
      "\n",
      "    Filter\n",
      "\n",
      "\n",
      "Attaching package: 'stringr'\n",
      "\n",
      "The following object is masked from 'package:qdap':\n",
      "\n",
      "    %>%\n",
      "\n",
      "Warning message:\n",
      "\"package 'fuzzywuzzyR' was built under R version 3.5.2\"Warning message:\n",
      "\"package 'jsonlite' was built under R version 3.5.2\"\n",
      "Attaching package: 'jsonlite'\n",
      "\n",
      "The following object is masked from 'package:qdapRegex':\n",
      "\n",
      "    validate\n",
      "\n",
      "Warning message:\n",
      "\"package 'quanteda' was built under R version 3.5.2\"Package version: 1.3.14\n",
      "Parallel computing: 2 of 4 threads used.\n",
      "See https://quanteda.io for tutorials and examples.\n",
      "\n",
      "Attaching package: 'quanteda'\n",
      "\n",
      "The following objects are masked from 'package:qdap':\n",
      "\n",
      "    %>%, as.DocumentTermMatrix, as.wfm\n",
      "\n",
      "The following object is masked from 'jupyter:irkernel':\n",
      "\n",
      "    View\n",
      "\n",
      "The following object is masked from 'package:utils':\n",
      "\n",
      "    View\n",
      "\n",
      "\n",
      "Attaching package: 'ggplot2'\n",
      "\n",
      "The following object is masked from 'package:qdapRegex':\n",
      "\n",
      "    %+%\n",
      "\n",
      "-- Attaching packages --------------------------------------- tidyverse 1.2.1 --\n",
      "v tibble  1.4.2     v purrr   0.2.5\n",
      "v tidyr   0.8.2     v dplyr   0.7.8\n",
      "v readr   1.2.1     v forcats 0.3.0\n",
      "-- Conflicts ------------------------------------------ tidyverse_conflicts() --\n",
      "x ggplot2::%+%()       masks qdapRegex::%+%()\n",
      "x readr::col_factor()  masks scales::col_factor()\n",
      "x purrr::discard()     masks scales::discard()\n",
      "x dplyr::explain()     masks qdapRegex::explain()\n",
      "x dplyr::filter()      masks stats::filter()\n",
      "x purrr::flatten()     masks jsonlite::flatten()\n",
      "x dplyr::id()          masks qdapTools::id()\n",
      "x dplyr::lag()         masks stats::lag()\n",
      "x jsonlite::validate() masks qdapRegex::validate()\n",
      "Warning message:\n",
      "\"package 'Amelia' was built under R version 3.5.2\"Loading required package: Rcpp\n",
      "## \n",
      "## Amelia II: Multiple Imputation\n",
      "## (Version 1.7.5, built: 2018-05-07)\n",
      "## Copyright (C) 2005-2019 James Honaker, Gary King and Matthew Blackwell\n",
      "## Refer to http://gking.harvard.edu/amelia/ for more information\n",
      "## \n",
      "Warning message:\n",
      "\"package 'R.oo' was built under R version 3.5.2\"Loading required package: R.methodsS3\n",
      "Warning message:\n",
      "\"package 'R.methodsS3' was built under R version 3.5.2\"R.methodsS3 v1.7.1 (2016-02-15) successfully loaded. See ?R.methodsS3 for help.\n",
      "R.oo v1.22.0 (2018-04-21) successfully loaded. See ?R.oo for help.\n",
      "\n",
      "Attaching package: 'R.oo'\n",
      "\n",
      "The following objects are masked from 'package:methods':\n",
      "\n",
      "    getClasses, getMethods\n",
      "\n",
      "The following objects are masked from 'package:base':\n",
      "\n",
      "    attach, detach, gc, load, save\n",
      "\n"
     ]
    }
   ],
   "source": [
    "library(scales)\n",
    "library(qdap)\n",
    "library(corpus)\n",
    "library(stringr)\n",
    "library(stringi)\n",
    "library(fuzzywuzzyR)\n",
    "library(jsonlite)\n",
    "library(quanteda)\n",
    "library(ggplot2)\n",
    "library(tidyverse)\n",
    "library(Amelia)\n",
    "library(R.oo)\n",
    "library(dplyr)\n",
    "library(ggplot2)\n"
   ]
  },
  {
   "cell_type": "code",
   "execution_count": 4,
   "metadata": {},
   "outputs": [
    {
     "data": {
      "text/html": [
       "<table>\n",
       "<thead><tr><th></th><th scope=col>id</th><th scope=col>qid1</th><th scope=col>qid2</th><th scope=col>question1</th><th scope=col>question2</th><th scope=col>is_duplicate</th></tr></thead>\n",
       "<tbody>\n",
       "\t<tr><th scope=row>11721</th><td>11720                                                                                                    </td><td>22620                                                                                                    </td><td>22621                                                                                                    </td><td>How do you edit a post on zomato?                                                                        </td><td>How do I edit a post?                                                                                    </td><td>0                                                                                                        </td></tr>\n",
       "\t<tr><th scope=row>51211</th><td>51210                                                                                                    </td><td> 1776                                                                                                    </td><td>87261                                                                                                    </td><td>How would I dress like a workout guru from the year 1990 in the summer?                                  </td><td>How do I dress like a workout guy from the year 1990 in the summer?                                      </td><td>1                                                                                                        </td></tr>\n",
       "\t<tr><th scope=row>15714</th><td>15713                                                                                                    </td><td>29995                                                                                                    </td><td>29996                                                                                                    </td><td>Is Android really more secure than iOS (as Eric Schmidt claims)? If yes, how? If no, why?                </td><td>Are iPhones more secure than Android phones?                                                             </td><td>1                                                                                                        </td></tr>\n",
       "\t<tr><th scope=row>42215</th><td>42214                                                                                                    </td><td>76108                                                                                                    </td><td>76109                                                                                                    </td><td>All my answers in English CBSE board 2015 are correct. How much can I expect?                            </td><td>How much were you expecting and how much did you get in CBSE maths 2015 exam?                            </td><td>0                                                                                                        </td></tr>\n",
       "\t<tr><th scope=row>24303</th><td>24302                                                                                                    </td><td>45423                                                                                                    </td><td>45424                                                                                                    </td><td>What are the common traits of INTJ women and girls?                                                      </td><td>What are the most common differences between the INTJs and the ISTJs?                                    </td><td>0                                                                                                        </td></tr>\n",
       "\t<tr><th scope=row>86188</th><td>86187                                                                                                    </td><td>79170                                                                                                    </td><td>69842                                                                                                    </td><td>Which intersections in Kitchener, ON are particularly dangerous? Why? What could be done to improve them?</td><td>Which intersections in Atlanta are particularly dangerous? Why? What could be done to improve them?      </td><td>0                                                                                                        </td></tr>\n",
       "</tbody>\n",
       "</table>\n"
      ],
      "text/latex": [
       "\\begin{tabular}{r|llllll}\n",
       "  & id & qid1 & qid2 & question1 & question2 & is\\_duplicate\\\\\n",
       "\\hline\n",
       "\t11721 & 11720                                                                                                     & 22620                                                                                                     & 22621                                                                                                     & How do you edit a post on zomato?                                                                         & How do I edit a post?                                                                                     & 0                                                                                                        \\\\\n",
       "\t51211 & 51210                                                                                                     &  1776                                                                                                     & 87261                                                                                                     & How would I dress like a workout guru from the year 1990 in the summer?                                   & How do I dress like a workout guy from the year 1990 in the summer?                                       & 1                                                                                                        \\\\\n",
       "\t15714 & 15713                                                                                                     & 29995                                                                                                     & 29996                                                                                                     & Is Android really more secure than iOS (as Eric Schmidt claims)? If yes, how? If no, why?                 & Are iPhones more secure than Android phones?                                                              & 1                                                                                                        \\\\\n",
       "\t42215 & 42214                                                                                                     & 76108                                                                                                     & 76109                                                                                                     & All my answers in English CBSE board 2015 are correct. How much can I expect?                             & How much were you expecting and how much did you get in CBSE maths 2015 exam?                             & 0                                                                                                        \\\\\n",
       "\t24303 & 24302                                                                                                     & 45423                                                                                                     & 45424                                                                                                     & What are the common traits of INTJ women and girls?                                                       & What are the most common differences between the INTJs and the ISTJs?                                     & 0                                                                                                        \\\\\n",
       "\t86188 & 86187                                                                                                     & 79170                                                                                                     & 69842                                                                                                     & Which intersections in Kitchener, ON are particularly dangerous? Why? What could be done to improve them? & Which intersections in Atlanta are particularly dangerous? Why? What could be done to improve them?       & 0                                                                                                        \\\\\n",
       "\\end{tabular}\n"
      ],
      "text/markdown": [
       "\n",
       "| <!--/--> | id | qid1 | qid2 | question1 | question2 | is_duplicate | \n",
       "|---|---|---|---|---|---|\n",
       "| 11721 | 11720                                                                                                     | 22620                                                                                                     | 22621                                                                                                     | How do you edit a post on zomato?                                                                         | How do I edit a post?                                                                                     | 0                                                                                                         | \n",
       "| 51211 | 51210                                                                                                     |  1776                                                                                                     | 87261                                                                                                     | How would I dress like a workout guru from the year 1990 in the summer?                                   | How do I dress like a workout guy from the year 1990 in the summer?                                       | 1                                                                                                         | \n",
       "| 15714 | 15713                                                                                                     | 29995                                                                                                     | 29996                                                                                                     | Is Android really more secure than iOS (as Eric Schmidt claims)? If yes, how? If no, why?                 | Are iPhones more secure than Android phones?                                                              | 1                                                                                                         | \n",
       "| 42215 | 42214                                                                                                     | 76108                                                                                                     | 76109                                                                                                     | All my answers in English CBSE board 2015 are correct. How much can I expect?                             | How much were you expecting and how much did you get in CBSE maths 2015 exam?                             | 0                                                                                                         | \n",
       "| 24303 | 24302                                                                                                     | 45423                                                                                                     | 45424                                                                                                     | What are the common traits of INTJ women and girls?                                                       | What are the most common differences between the INTJs and the ISTJs?                                     | 0                                                                                                         | \n",
       "| 86188 | 86187                                                                                                     | 79170                                                                                                     | 69842                                                                                                     | Which intersections in Kitchener, ON are particularly dangerous? Why? What could be done to improve them? | Which intersections in Atlanta are particularly dangerous? Why? What could be done to improve them?       | 0                                                                                                         | \n",
       "\n",
       "\n"
      ],
      "text/plain": [
       "      id    qid1  qid2 \n",
       "11721 11720 22620 22621\n",
       "51211 51210  1776 87261\n",
       "15714 15713 29995 29996\n",
       "42215 42214 76108 76109\n",
       "24303 24302 45423 45424\n",
       "86188 86187 79170 69842\n",
       "      question1                                                                                                \n",
       "11721 How do you edit a post on zomato?                                                                        \n",
       "51211 How would I dress like a workout guru from the year 1990 in the summer?                                  \n",
       "15714 Is Android really more secure than iOS (as Eric Schmidt claims)? If yes, how? If no, why?                \n",
       "42215 All my answers in English CBSE board 2015 are correct. How much can I expect?                            \n",
       "24303 What are the common traits of INTJ women and girls?                                                      \n",
       "86188 Which intersections in Kitchener, ON are particularly dangerous? Why? What could be done to improve them?\n",
       "      question2                                                                                          \n",
       "11721 How do I edit a post?                                                                              \n",
       "51211 How do I dress like a workout guy from the year 1990 in the summer?                                \n",
       "15714 Are iPhones more secure than Android phones?                                                       \n",
       "42215 How much were you expecting and how much did you get in CBSE maths 2015 exam?                      \n",
       "24303 What are the most common differences between the INTJs and the ISTJs?                              \n",
       "86188 Which intersections in Atlanta are particularly dangerous? Why? What could be done to improve them?\n",
       "      is_duplicate\n",
       "11721 0           \n",
       "51211 1           \n",
       "15714 1           \n",
       "42215 0           \n",
       "24303 0           \n",
       "86188 0           "
      ]
     },
     "metadata": {},
     "output_type": "display_data"
    },
    {
     "data": {
      "text/html": [
       "<table>\n",
       "<thead><tr><th></th><th scope=col>id</th><th scope=col>qid1</th><th scope=col>qid2</th><th scope=col>question1</th><th scope=col>question2</th><th scope=col>is_duplicate</th></tr></thead>\n",
       "<tbody>\n",
       "\t<tr><th scope=row>837</th><td>  836                                                                                                                  </td><td>  1667                                                                                                                 </td><td>  1668                                                                                                                 </td><td>What is difference between net and gross income?                                                                       </td><td>What is the difference between gross income versus net income?                                                         </td><td>1                                                                                                                      </td></tr>\n",
       "\t<tr><th scope=row>92585</th><td>92584                                                                                                                  </td><td> 28819                                                                                                                 </td><td>  3742                                                                                                                 </td><td>Can I see a private Instagram?                                                                                         </td><td>Can I view a private Instagram?                                                                                        </td><td>1                                                                                                                      </td></tr>\n",
       "\t<tr><th scope=row>20605</th><td>20604                                                                                                                  </td><td> 38859                                                                                                                 </td><td> 38860                                                                                                                 </td><td>How do I calculate the radius or the 2 potential of a cylinder given the surface area?                                 </td><td>How do I calculate the height and radius of a cylinder given the surface area?                                         </td><td>0                                                                                                                      </td></tr>\n",
       "\t<tr><th scope=row>47260</th><td>47259                                                                                                                  </td><td> 84401                                                                                                                 </td><td> 84402                                                                                                                 </td><td>Do employees at Cypress Semiconductor have a good work-life balance? Does this differ across positions and departments?</td><td>What kind of act you did that made people say you are an OCD case?                                                     </td><td>0                                                                                                                      </td></tr>\n",
       "\t<tr><th scope=row>71208</th><td>71207                                                                                                                  </td><td>122580                                                                                                                 </td><td>122581                                                                                                                 </td><td>The loneliest number?                                                                                                  </td><td>What is the loneliest number, and why?                                                                                 </td><td>1                                                                                                                      </td></tr>\n",
       "\t<tr><th scope=row>6490</th><td> 6489                                                                                                                  </td><td> 12712                                                                                                                 </td><td> 12713                                                                                                                 </td><td>If you had to commit suicide, how would you do it and why?                                                             </td><td>If you had to commit suicide how would you do it?                                                                      </td><td>0                                                                                                                      </td></tr>\n",
       "</tbody>\n",
       "</table>\n"
      ],
      "text/latex": [
       "\\begin{tabular}{r|llllll}\n",
       "  & id & qid1 & qid2 & question1 & question2 & is\\_duplicate\\\\\n",
       "\\hline\n",
       "\t837 &   836                                                                                                                   &   1667                                                                                                                  &   1668                                                                                                                  & What is difference between net and gross income?                                                                        & What is the difference between gross income versus net income?                                                          & 1                                                                                                                      \\\\\n",
       "\t92585 & 92584                                                                                                                   &  28819                                                                                                                  &   3742                                                                                                                  & Can I see a private Instagram?                                                                                          & Can I view a private Instagram?                                                                                         & 1                                                                                                                      \\\\\n",
       "\t20605 & 20604                                                                                                                   &  38859                                                                                                                  &  38860                                                                                                                  & How do I calculate the radius or the 2 potential of a cylinder given the surface area?                                  & How do I calculate the height and radius of a cylinder given the surface area?                                          & 0                                                                                                                      \\\\\n",
       "\t47260 & 47259                                                                                                                   &  84401                                                                                                                  &  84402                                                                                                                  & Do employees at Cypress Semiconductor have a good work-life balance? Does this differ across positions and departments? & What kind of act you did that made people say you are an OCD case?                                                      & 0                                                                                                                      \\\\\n",
       "\t71208 & 71207                                                                                                                   & 122580                                                                                                                  & 122581                                                                                                                  & The loneliest number?                                                                                                   & What is the loneliest number, and why?                                                                                  & 1                                                                                                                      \\\\\n",
       "\t6490 &  6489                                                                                                                   &  12712                                                                                                                  &  12713                                                                                                                  & If you had to commit suicide, how would you do it and why?                                                              & If you had to commit suicide how would you do it?                                                                       & 0                                                                                                                      \\\\\n",
       "\\end{tabular}\n"
      ],
      "text/markdown": [
       "\n",
       "| <!--/--> | id | qid1 | qid2 | question1 | question2 | is_duplicate | \n",
       "|---|---|---|---|---|---|\n",
       "| 837 |   836                                                                                                                   |   1667                                                                                                                  |   1668                                                                                                                  | What is difference between net and gross income?                                                                        | What is the difference between gross income versus net income?                                                          | 1                                                                                                                       | \n",
       "| 92585 | 92584                                                                                                                   |  28819                                                                                                                  |   3742                                                                                                                  | Can I see a private Instagram?                                                                                          | Can I view a private Instagram?                                                                                         | 1                                                                                                                       | \n",
       "| 20605 | 20604                                                                                                                   |  38859                                                                                                                  |  38860                                                                                                                  | How do I calculate the radius or the 2 potential of a cylinder given the surface area?                                  | How do I calculate the height and radius of a cylinder given the surface area?                                          | 0                                                                                                                       | \n",
       "| 47260 | 47259                                                                                                                   |  84401                                                                                                                  |  84402                                                                                                                  | Do employees at Cypress Semiconductor have a good work-life balance? Does this differ across positions and departments? | What kind of act you did that made people say you are an OCD case?                                                      | 0                                                                                                                       | \n",
       "| 71208 | 71207                                                                                                                   | 122580                                                                                                                  | 122581                                                                                                                  | The loneliest number?                                                                                                   | What is the loneliest number, and why?                                                                                  | 1                                                                                                                       | \n",
       "| 6490 |  6489                                                                                                                   |  12712                                                                                                                  |  12713                                                                                                                  | If you had to commit suicide, how would you do it and why?                                                              | If you had to commit suicide how would you do it?                                                                       | 0                                                                                                                       | \n",
       "\n",
       "\n"
      ],
      "text/plain": [
       "      id    qid1   qid2  \n",
       "837     836   1667   1668\n",
       "92585 92584  28819   3742\n",
       "20605 20604  38859  38860\n",
       "47260 47259  84401  84402\n",
       "71208 71207 122580 122581\n",
       "6490   6489  12712  12713\n",
       "      question1                                                                                                              \n",
       "837   What is difference between net and gross income?                                                                       \n",
       "92585 Can I see a private Instagram?                                                                                         \n",
       "20605 How do I calculate the radius or the 2 potential of a cylinder given the surface area?                                 \n",
       "47260 Do employees at Cypress Semiconductor have a good work-life balance? Does this differ across positions and departments?\n",
       "71208 The loneliest number?                                                                                                  \n",
       "6490  If you had to commit suicide, how would you do it and why?                                                             \n",
       "      question2                                                                     \n",
       "837   What is the difference between gross income versus net income?                \n",
       "92585 Can I view a private Instagram?                                               \n",
       "20605 How do I calculate the height and radius of a cylinder given the surface area?\n",
       "47260 What kind of act you did that made people say you are an OCD case?            \n",
       "71208 What is the loneliest number, and why?                                        \n",
       "6490  If you had to commit suicide how would you do it?                             \n",
       "      is_duplicate\n",
       "837   1           \n",
       "92585 1           \n",
       "20605 0           \n",
       "47260 0           \n",
       "71208 1           \n",
       "6490  0           "
      ]
     },
     "metadata": {},
     "output_type": "display_data"
    }
   ],
   "source": [
    "head(df)\n",
    "tail(df)"
   ]
  },
  {
   "cell_type": "code",
   "execution_count": 5,
   "metadata": {},
   "outputs": [
    {
     "name": "stdout",
     "output_type": "stream",
     "text": [
      "'data.frame':\t100000 obs. of  6 variables:\n",
      " $ id          : int  11720 51210 15713 42214 24302 86187 76101 96097 86176 29016 ...\n",
      " $ qid1        : int  22620 1776 29995 76108 45423 79170 130135 160129 87501 1028 ...\n",
      " $ qid2        : int  22621 87261 29996 76109 45424 69842 130136 160130 145369 53730 ...\n",
      " $ question1   : Factor w/ 290457 levels \"\\177what is the average cost you paid for a day-trading course & how long was the course & do you find that it \"| __truncated__,..: 69498 92309 108231 1203 160366 249838 185368 98898 138166 69625 ...\n",
      " $ question2   : Factor w/ 299174 levels \"\\177how to minimize the loss function? \\177\",..: 57057 56920 2989 92022 172747 257887 2361 284715 34148 182470 ...\n",
      " $ is_duplicate: int  0 1 1 0 0 0 0 0 0 1 ...\n"
     ]
    }
   ],
   "source": [
    "\n",
    "str(df)"
   ]
  },
  {
   "cell_type": "markdown",
   "metadata": {},
   "source": [
    "# Distribution of data points among output classes\n",
    "Number of duplicate(smilar) and non-duplicate(non similar) questions"
   ]
  },
  {
   "cell_type": "code",
   "execution_count": 6,
   "metadata": {},
   "outputs": [
    {
     "data": {
      "image/png": "[encoded data removed]",
      "text/plain": [
       "Plot with title \"Number of duplicate(smilar) and non-duplicate(non similar) questions\""
      ]
     },
     "metadata": {},
     "output_type": "display_data"
    }
   ],
   "source": [
    "\n",
    "barplot.default(table(df$is_duplicate),ylab=\"Total Questions\",xlab=\"is_duplicate\",main=\"Number of duplicate(smilar) and non-duplicate(non similar) questions\",legend.text = \"Non similar and non similar\")\n",
    "\n"
   ]
  },
  {
   "cell_type": "code",
   "execution_count": 7,
   "metadata": {},
   "outputs": [
    {
     "name": "stdout",
     "output_type": "stream",
     "text": [
      "[1] \"Question pairs are  Similar 37.25 %\"\n",
      "[1] \"Question pairs are not Similar 62.75 %\"\n"
     ]
    }
   ],
   "source": [
    "\n",
    "df_dup<-df[(df$is_duplicate==1),]\n",
    "df_ndup<-df[(df$is_duplicate==0),]\n",
    "\n",
    "df_n_dup<-length(df_dup$is_duplicate)\n",
    "df_n_ndup<-length(df_ndup$is_duplicate)\n",
    "\n",
    "print(paste(\"Question pairs are  Similar\",round(df_n_dup/sum(df_n_dup,df_n_ndup)*100,2),\"%\"))\n",
    "print(paste(\"Question pairs are not Similar\",round(df_n_ndup/sum(df_n_dup,df_n_ndup)*100,2),\"%\"))\n",
    "\n"
   ]
  },
  {
   "cell_type": "markdown",
   "metadata": {},
   "source": [
    "# Number of unique questions"
   ]
  },
  {
   "cell_type": "code",
   "execution_count": 8,
   "metadata": {},
   "outputs": [
    {
     "name": "stdout",
     "output_type": "stream",
     "text": [
      "[1] \"Total num of  Unique Questions are: 165931\"\n",
      "[1] \"Number of unique questions that appear more than one time: 19446 (11.7193%)\"\n"
     ]
    }
   ],
   "source": [
    "\n",
    "qids<-c(df$qid1,df$qid2)\n",
    "print(paste(\"Total num of  Unique Questions are:\",length(unique(qids))))\n",
    "print(paste(\"Number of unique questions that appear more than one time:\",\n",
    "            table(table(qids)>1)[2],\n",
    "            gsub(\" \",\"\",paste(\"(\",round(table(table(qids)>1)[2]/length(unique(qids))*100,4),\"%\",\")\"))))\n"
   ]
  },
  {
   "cell_type": "code",
   "execution_count": 9,
   "metadata": {},
   "outputs": [
    {
     "name": "stdout",
     "output_type": "stream",
     "text": [
      "[1] \"Max number of times a single question is repeated: 32\"\n"
     ]
    }
   ],
   "source": [
    "\n",
    "\n",
    "print(paste(\"Max number of times a single question is repeated:\",max(table(qids))))\n"
   ]
  },
  {
   "cell_type": "code",
   "execution_count": 11,
   "metadata": {},
   "outputs": [],
   "source": [
    "\n",
    "df_q1 <- data.frame(Type=c(\"Unique_Questions\", \"Repeated_Questions\"),\n",
    "No=c(length(unique(qids)),table(table(qids)>1)[[2]] ))\n",
    "   "
   ]
  },
  {
   "cell_type": "code",
   "execution_count": 12,
   "metadata": {},
   "outputs": [
    {
     "data": {},
     "metadata": {},
     "output_type": "display_data"
    },
    {
     "data": {
      "image/png": "[encoded data removed]",
      "text/plain": [
       "plot without title"
      ]
     },
     "metadata": {},
     "output_type": "display_data"
    }
   ],
   "source": [
    "  \n",
    "ggplot(data=df_q1, aes(x=Type,y=No,fill=Type))+\n",
    "  geom_bar(stat=\"identity\",colour=\"black\")+\n",
    "  scale_y_continuous(labels = comma)+\n",
    "  geom_text(aes(label=No), vjust=-0.3,size=3.5)+\n",
    "  theme_minimal()\n",
    "\n"
   ]
  },
  {
   "cell_type": "markdown",
   "metadata": {},
   "source": [
    "# Checking for Duplicates"
   ]
  },
  {
   "cell_type": "code",
   "execution_count": 13,
   "metadata": {},
   "outputs": [
    {
     "name": "stdout",
     "output_type": "stream",
     "text": [
      "[1] \"Number of duplicate questions 0\"\n"
     ]
    }
   ],
   "source": [
    "\n",
    "print(paste(\"Number of duplicate questions\",\n",
    "if(any(duplicated.data.frame(df[,-c(1,4,5)]))==FALSE){\n",
    "  x=0\n",
    "  } else { \n",
    "  print(length(duplicated.data.frame(df[,-c(1,4,5)])))\n",
    "  }\n",
    "))\n"
   ]
  },
  {
   "cell_type": "code",
   "execution_count": 14,
   "metadata": {},
   "outputs": [
    {
     "data": {
      "text/html": [
       "1"
      ],
      "text/latex": [
       "1"
      ],
      "text/markdown": [
       "1"
      ],
      "text/plain": [
       "[1] 1"
      ]
     },
     "metadata": {},
     "output_type": "display_data"
    },
    {
     "data": {
      "text/html": [
       "32"
      ],
      "text/latex": [
       "32"
      ],
      "text/markdown": [
       "32"
      ],
      "text/plain": [
       "[1] 32"
      ]
     },
     "metadata": {},
     "output_type": "display_data"
    }
   ],
   "source": [
    "\n",
    "n_m<-unique(table(qids))\n",
    "n_m<-sort(n_m,decreasing = FALSE)\n",
    "min(n_m)\n",
    "max(n_m)"
   ]
  },
  {
   "cell_type": "code",
   "execution_count": 15,
   "metadata": {},
   "outputs": [],
   "source": [
    "\n",
    "tbl_qids<-table(qids)\n",
    "df_rng<-data.frame()\n",
    "for(i in n_m){\n",
    "  v=length(tbl_qids[tbl_qids==i])\n",
    "  df_rng<- rbind(df_rng,v)\n",
    "  \n",
    "}"
   ]
  },
  {
   "cell_type": "code",
   "execution_count": 16,
   "metadata": {},
   "outputs": [],
   "source": [
    "\n",
    "df_rng<-cbind(n_m,df_rng)\n",
    "colnames(df_rng)<- c(\"Number of Occurences of question\",\"Number of questions\")\n"
   ]
  },
  {
   "cell_type": "code",
   "execution_count": 17,
   "metadata": {},
   "outputs": [
    {
     "data": {},
     "metadata": {},
     "output_type": "display_data"
    },
    {
     "data": {
      "image/png": "[encoded data removed]",
      "text/plain": [
       "plot without title"
      ]
     },
     "metadata": {},
     "output_type": "display_data"
    }
   ],
   "source": [
    "\n",
    "ggplot(data=df_rng,aes(x=`Number of Occurences of question`,y=df_rng$`Number of questions`))+geom_bar(stat=\"identity\", position=\"dodge\")+\n",
    "  scale_y_log10(\n",
    "    breaks = scales::trans_breaks(\"log10\", function(x) 10^x),\n",
    "    labels = scales::trans_format(\"log10\", scales::math_format(10^.x))\n",
    "  )\n"
   ]
  },
  {
   "cell_type": "code",
   "execution_count": 18,
   "metadata": {},
   "outputs": [],
   "source": [
    "\n",
    "df[df ==\" \"]<- NA\n"
   ]
  },
  {
   "cell_type": "code",
   "execution_count": 19,
   "metadata": {},
   "outputs": [
    {
     "name": "stdout",
     "output_type": "stream",
     "text": [
      "[1] \"Total number of empty values are: 0\"\n",
      "[1] \"There are 0 rows with null values in the dataframe and their position are: \"\n"
     ]
    }
   ],
   "source": [
    "\n",
    "print(paste(\"Total number of empty values are:\",sum(is.na(df))))\n",
    "print(paste(\"There are\",sum(is.na(df)) ,\n",
    "            \"rows with null values in the dataframe and their position are:\",\n",
    "            row.names(df[!complete.cases(df),]) ))\n",
    "\n"
   ]
  },
  {
   "cell_type": "code",
   "execution_count": 20,
   "metadata": {},
   "outputs": [
    {
     "data": {
      "text/html": [
       "<ol class=list-inline>\n",
       "\t<li>100000</li>\n",
       "\t<li>6</li>\n",
       "</ol>\n"
      ],
      "text/latex": [
       "\\begin{enumerate*}\n",
       "\\item 100000\n",
       "\\item 6\n",
       "\\end{enumerate*}\n"
      ],
      "text/markdown": [
       "1. 100000\n",
       "2. 6\n",
       "\n",
       "\n"
      ],
      "text/plain": [
       "[1] 100000      6"
      ]
     },
     "metadata": {},
     "output_type": "display_data"
    }
   ],
   "source": [
    "\n",
    "dim(df)"
   ]
  },
  {
   "cell_type": "code",
   "execution_count": 22,
   "metadata": {},
   "outputs": [
    {
     "data": {
      "text/html": [
       "<ol class=list-inline>\n",
       "\t<li>100000</li>\n",
       "\t<li>6</li>\n",
       "</ol>\n"
      ],
      "text/latex": [
       "\\begin{enumerate*}\n",
       "\\item 100000\n",
       "\\item 6\n",
       "\\end{enumerate*}\n"
      ],
      "text/markdown": [
       "1. 100000\n",
       "2. 6\n",
       "\n",
       "\n"
      ],
      "text/plain": [
       "[1] 100000      6"
      ]
     },
     "metadata": {},
     "output_type": "display_data"
    }
   ],
   "source": [
    "\n",
    "df<-df[complete.cases(df),]\n",
    "dim(df)\n",
    "\n"
   ]
  },
  {
   "cell_type": "code",
   "execution_count": 23,
   "metadata": {},
   "outputs": [],
   "source": [
    "\n",
    "empty_rows<-which(is.na(df))\n"
   ]
  },
  {
   "cell_type": "code",
   "execution_count": 24,
   "metadata": {},
   "outputs": [
    {
     "data": {
      "image/png": "[encoded data removed]",
      "text/plain": [
       "Plot with title \"Missingness Map\""
      ]
     },
     "metadata": {},
     "output_type": "display_data"
    }
   ],
   "source": [
    "\n",
    "Amelia::missmap(df)"
   ]
  },
  {
   "cell_type": "code",
   "execution_count": 25,
   "metadata": {},
   "outputs": [
    {
     "data": {
      "text/html": [
       "FALSE"
      ],
      "text/latex": [
       "FALSE"
      ],
      "text/markdown": [
       "FALSE"
      ],
      "text/plain": [
       "[1] FALSE"
      ]
     },
     "metadata": {},
     "output_type": "display_data"
    }
   ],
   "source": [
    "\n",
    "any(is.na(df))"
   ]
  },
  {
   "cell_type": "code",
   "execution_count": 26,
   "metadata": {},
   "outputs": [],
   "source": [
    "qid1<-(df$qid1)\n",
    "qid2<-(df$qid2)"
   ]
  },
  {
   "cell_type": "code",
   "execution_count": 30,
   "metadata": {},
   "outputs": [],
   "source": [
    "df_qid1<- data.frame()\n",
    "for(i in qid1){\n",
    "  v=length(qid1[qid1==i])\n",
    "  df_qid1<-rbind(df_qid1,v)\n",
    "}\n",
    "\n",
    "\n",
    "df_qid2<- data.frame()\n",
    "for(i in qid2){\n",
    "  v=length(qid2[qid2==i])\n",
    "  df_qid2<-rbind(df_qid2,v)\n",
    "}"
   ]
  },
  {
   "cell_type": "code",
   "execution_count": 31,
   "metadata": {},
   "outputs": [],
   "source": [
    "\n",
    "\n",
    "# freq_qid1 = Frequency of qid1's\n",
    "df$freq_qid1<- df_qid1\n",
    "\n",
    "# freq_qid2 = Frequency of qid2's\n",
    "df$freq_qid2<-df_qid2\n",
    "# q1len = Length of q1\n",
    "df$q1len<- str_count(df$question1)\n",
    "# q2len = Length of q2\n",
    "df$q2len<- str_count(df$question2)\n",
    "# q1_n_words = Number of words in Question 1\n",
    "df$q1_n_words<- str_count(df$question1,pattern = \" \")+1\n",
    "# q2_n_words = Number of words in Question 2\n",
    "df$q2_n_words<- str_count(df$question2,pattern = \" \")+1\n",
    "# word_Common = (Number of common unique words in Question 1 and Question 2)\n",
    "wrd1<-str_split(df$question1,pattern = \" \")\n",
    "wrd2<-str_split(df$question2,pattern = \" \")\n",
    "\n",
    "l<-list()\n",
    "for(i in 1:nrow(df)){\n",
    "  v<-unique(wrd1[[i]]) %in% unique(wrd2[[i]])\n",
    "  if(dim(table(v))==1){\n",
    "    c<-table(v)[[1]]\n",
    "    l<-append(l,c,after = length(l))\n",
    "  }else{\n",
    "    c<-table(v)[[2]] \n",
    "    l<-append(l,c,after = length(l))\n",
    "    \n",
    "  }\n",
    "  \n",
    "}\n",
    "\n",
    "df$word_Common<-unlist(l)\n",
    "# word_Total =(Total num of words in Question 1 + Total num of words in Question 2)\n",
    "df$word_Total<-lapply(1:nrow(df),function(x) sum(length(unique(wrd1[[x]])),length(unique(wrd2[[x]]))))\n",
    "\n",
    "# word_share = (word_common)/(word_Total)\n",
    "df$word_share<-df$word_Common/unlist(df$word_Total)\n",
    "# freq_q1+freq_q2 = sum total of frequency of qid1 and qid2\n",
    "df$freq_q1_plus_freq_q2<- df$freq_qid1+df$freq_qid2\n",
    "# freq_q1-freq_q2 = absolute difference of frequency of qid1 and qid2\n",
    "df$freq_q1_minus_freq_q2<- df$freq_qid1-df$freq_qid2\n",
    "\n"
   ]
  },
  {
   "cell_type": "code",
   "execution_count": 32,
   "metadata": {},
   "outputs": [
    {
     "name": "stdout",
     "output_type": "stream",
     "text": [
      "[1] \"Minimum length of the questions in question1 :  1\"\n",
      "[1] \"Minimum length of the questions in question2 :  1\"\n",
      "[1] \"Number of Questions with minimum length [question1] : 15\"\n",
      "[1] \"Number of Questions with minimum length [question2] : 5\"\n"
     ]
    }
   ],
   "source": [
    "\n",
    "print (paste(\"Minimum length of the questions in question1 : \" , min(df$q1_n_words)))\n",
    "print (paste(\"Minimum length of the questions in question2 : \" , min(df$q2_n_words)))\n",
    "print(paste(\"Number of Questions with minimum length [question1] :\",table(df$q1_n_words==1)[[2]]))\n",
    "print(paste(\"Number of Questions with minimum length [question2] :\", table(df$q2_n_words==1)[[2]]))\n"
   ]
  },
  {
   "cell_type": "markdown",
   "metadata": {},
   "source": [
    "# Feature: word_share"
   ]
  },
  {
   "cell_type": "code",
   "execution_count": 33,
   "metadata": {},
   "outputs": [
    {
     "data": {},
     "metadata": {},
     "output_type": "display_data"
    },
    {
     "data": {
      "image/png": "[encoded data removed]",
      "text/plain": [
       "plot without title"
      ]
     },
     "metadata": {},
     "output_type": "display_data"
    }
   ],
   "source": [
    "\n",
    "ggplot(data = df,aes(x=as.factor(is_duplicate),y=word_share,fill=as.factor(is_duplicate)))+geom_violin()\n",
    "\n"
   ]
  },
  {
   "cell_type": "code",
   "execution_count": 34,
   "metadata": {},
   "outputs": [
    {
     "data": {},
     "metadata": {},
     "output_type": "display_data"
    },
    {
     "data": {
      "image/png": "[encoded data removed]",
      "text/plain": [
       "plot without title"
      ]
     },
     "metadata": {},
     "output_type": "display_data"
    }
   ],
   "source": [
    "\n",
    "\n",
    "ggplot(df, aes(x=df$word_share,fill=as.factor(df$is_duplicate),)) +geom_density()\n"
   ]
  },
  {
   "cell_type": "markdown",
   "metadata": {},
   "source": [
    "# Feature: word_Common"
   ]
  },
  {
   "cell_type": "code",
   "execution_count": 35,
   "metadata": {},
   "outputs": [
    {
     "data": {},
     "metadata": {},
     "output_type": "display_data"
    },
    {
     "data": {
      "image/png": "[encoded data removed]",
      "text/plain": [
       "plot without title"
      ]
     },
     "metadata": {},
     "output_type": "display_data"
    }
   ],
   "source": [
    "\n",
    "ggplot(data = df,aes(x=as.factor(is_duplicate),y=word_Common,fill=as.factor(is_duplicate)))+geom_violin()\n"
   ]
  },
  {
   "cell_type": "code",
   "execution_count": 36,
   "metadata": {},
   "outputs": [
    {
     "data": {},
     "metadata": {},
     "output_type": "display_data"
    },
    {
     "data": {
      "image/png": "[encoded data removed]",
      "text/plain": [
       "plot without title"
      ]
     },
     "metadata": {},
     "output_type": "display_data"
    }
   ],
   "source": [
    "\n",
    "ggplot(df, aes(x=df$word_Common,fill=as.factor(df$is_duplicate),)) +geom_density()\n",
    "\n"
   ]
  },
  {
   "cell_type": "markdown",
   "metadata": {},
   "source": [
    "# Preprocessing of Text\n",
    "Preprocessing:\n",
    "1. Removing html tags\n",
    "2. Removing Punctuations\n",
    "3. Performing stemming\n",
    "4. Removing Stopwords\n",
    "5. Expanding contractions etc."
   ]
  },
  {
   "cell_type": "code",
   "execution_count": 37,
   "metadata": {},
   "outputs": [],
   "source": [
    "\n",
    "#Function to Compute and get the features : With 2 parameters of Question 1 and Question 2\n",
    "\n",
    "preprocess<-function(x){\n",
    "  \n",
    "  pattern<-c(\"won't\",\"n't\",\"v'e\",\"he's\",\"%\",\"€\",\"`\",\n",
    "             \"cannot\",\"cant't\",\"it's\",\"'re\",\"`s\",\"$\",\"'ll\",\"what's\",\n",
    "             \"i'm\",\"she's\")\n",
    "  \n",
    "  replacement<-c(\"will not\",\"not\",\"have\",\"he is\",\"percent\",\"euro\",\n",
    "                 \"'\",\"can not\",\"can not\",\"it is\",\"are\",\"own\",\"dollar\",\"will\",\n",
    "                 \"what is \",\"i am\",\"she is\")\n",
    "  x<-qdap::multigsub(pattern = pattern,replacement = replacement,x,fixed = TRUE,trailspace = TRUE,trim = TRUE)\n",
    "  \n",
    "  #x<-removeWords(x,c(stopwords(\"en\")))\n",
    "  x = gsub(\"http\\\\w+\", \"\", x)\n",
    "  x = gsub(\"[[:punct:]]\", \" \", x)\n",
    "  x<-stem_snowball(x, algorithm = \"en\")\n",
    "  x<-gsub(\"<.*?>\", \"\", x)\n",
    "  x<-tolower(x)\n",
    "  \n",
    "  return(x)\n",
    "}"
   ]
  },
  {
   "cell_type": "markdown",
   "metadata": {},
   "source": [
    "#  Advanced Feature Extraction (NLP and Fuzzy Features)\n"
   ]
  },
  {
   "cell_type": "markdown",
   "metadata": {},
   "source": [
    "# Features:\n",
    "\n",
    "* cwc_min : Ratio of common_word_count to min lenghth of word count of Q1 and Q2 \n",
    "* cwc_min = common_word_count / (min(len(q1_words), len(q2_words)) \n",
    "\n",
    "\n",
    "* cwc_max : Ratio of common_word_count to max lenghth of word count of Q1 and Q2 \n",
    "* cwc_max = common_word_count / (max(len(q1_words), len(q2_words)) \n",
    "\n",
    "\n",
    "* csc_min : Ratio of common_stop_count to min lenghth of stop count of Q1 and Q2 \n",
    "* csc_min = common_stop_count / (min(len(q1_stops), len(q2_stops)) \n",
    "\n",
    "\n",
    "* csc_max : Ratio of common_stop_count to max lenghth of stop count of Q1 and Q2\n",
    "* csc_max = common_stop_count / (max(len(q1_stops), len(q2_stops)) \n",
    "\n",
    "\n",
    "* ctc_min : Ratio of common_token_count to min lenghth of token count of Q1 and Q2\n",
    "* ctc_min = common_token_count / (min(len(q1_tokens), len(q2_tokens)) \n",
    "\n",
    "\n",
    "* ctc_max : Ratio of common_token_count to max lenghth of token count of Q1 and Q2\n",
    "* ctc_max = common_token_count / (max(len(q1_tokens), len(q2_tokens)) \n",
    "\n",
    "\n",
    "* last_word_eq : Check if First word of both questions is equal or not\n",
    "* last_word_eq = int(q1_tokens[-1] == q2_tokens[-1]) \n",
    "\n",
    "\n",
    "* first_word_eq : Check if First word of both questions is equal or not\n",
    "* first_word_eq = int(q1_tokens[0] == q2_tokens[0]) \n",
    "\n",
    "\n",
    "* abs_len_diff : Abs. length difference\n",
    "* abs_len_diff = abs(len(q1_tokens) - len(q2_tokens)) \n",
    "\n",
    "\n",
    "* mean_len : Average Token Length of both Questions\n",
    "* mean_len = (len(q1_tokens) + len(q2_tokens))/2 \n",
    "\n",
    "\n",
    "* fuzz_ratio : https://github.com/seatgeek/fuzzywuzzy#usage http://chairnerd.seatgeek.com/fuzzywuzzy-fuzzy-string-matching-in-python/ \n",
    "\n",
    "\n",
    "* fuzz_partial_ratio : https://github.com/seatgeek/fuzzywuzzy#usage http://chairnerd.seatgeek.com/fuzzywuzzy-fuzzy-string-matching-in-python/ \n",
    "\n",
    "\n",
    "* token_sort_ratio : https://github.com/seatgeek/fuzzywuzzy#usage http://chairnerd.seatgeek.com/fuzzywuzzy-fuzzy-string-matching-in-python/ \n",
    "\n",
    "* token_set_ratio : https://github.com/seatgeek/fuzzywuzzy#usage http://chairnerd.seatgeek.com/fuzzywuzzy-fuzzy-string-matching-in-python/ \n",
    "\n"
   ]
  },
  {
   "cell_type": "code",
   "execution_count": 38,
   "metadata": {},
   "outputs": [],
   "source": [
    "\n",
    "\n",
    "get_token_features<-function(q1,q2){\n",
    "# q1=df$question1\n",
    "# q2<-df$question2\n",
    "  token_features=list()\n",
    "\n",
    "  q1<-str_trim(q1)\n",
    "  q2<-str_trim(q2)\n",
    "  \n",
    "  ##converting the sentence into tokens\n",
    "  q1_tokens<-unlist(strsplit(q1,\" \"))\n",
    "  q2_tokens<-unlist(strsplit(q2,\" \"))\n",
    "  \n",
    "  #q1_tokens<-quanteda::tokens(as.character(df$question1),what=(\"word\"))\n",
    "  #q2_tokens<-quanteda::tokens(as.character(df$question2),what=(\"word\"))\n",
    "  \n",
    "  if(length(q1_tokens)==0| length(q2_tokens)==0) {\n",
    "    p<-rep(0,10)\n",
    "    return(p)\n",
    "  }\n",
    "  \n",
    "  \n",
    "  \n",
    "  ## Get the non-stopwords in questions\n",
    "  \n",
    "  q1_words<-unlist(lapply(1:length(q1_tokens),function(x) (q1_tokens[x])[!(q1_tokens[x]) %in% stopwords()]))\n",
    "  q2_words<-unlist(lapply(1:length(q2_tokens),function(x) (q2_tokens[x])[!(q2_tokens[x]) %in% stopwords()]))\n",
    "  \n",
    "  ## Get the stopwords in question\n",
    "  q1_stops<-unlist(lapply(1:length(q1_tokens),function(x) (q1_tokens[x])[(q1_tokens[x]) %in% stopwords()]))\n",
    "  q2_stops<-unlist(lapply(1:length(q2_tokens),function(x) (q2_tokens[x])[(q2_tokens[x]) %in% stopwords()]))\n",
    "  \n",
    "  \n",
    "  \n",
    "  ##get the common non-topwords from question pair\n",
    "  commom_word_count<-length(intersect(q1_words, q2_words))\n",
    "  \n",
    "  ## get the common stopwords from Question pair\n",
    "  common_stop_count<- length(intersect(q1_stops,q2_stops))\n",
    "  SAFE_DIV = 0.0001\n",
    "  \n",
    "  #get the common tokens from question pair\n",
    "  common_token_count<- length(intersect(q1_tokens,q2_tokens))\n",
    "  \n",
    "  token_features<-append(token_features,commom_word_count/(min(length(q1_words),length(q2_words))+SAFE_DIV),\n",
    "                         (length(token_features)+1))\n",
    "  token_features<-append(token_features,commom_word_count/(max(length(q1_words),length(q2_words))+SAFE_DIV),\n",
    "                         (length(token_features)+1))\n",
    "  \n",
    "  token_features<-append(token_features,common_stop_count/(min(length(q1_stops),length(q2_stops))+SAFE_DIV),\n",
    "                         (length(token_features)+1))\n",
    "  token_features<-append(token_features,common_stop_count/(max(length(q1_stops),length(q2_stops))+SAFE_DIV),\n",
    "                         (length(token_features)+1))\n",
    "  \n",
    "  token_features<-append(token_features,common_token_count/(min(length(q1_tokens),length(q2_tokens))+SAFE_DIV),\n",
    "                         (length(token_features)+1))\n",
    "  token_features<-append(token_features,common_token_count/(max(length(q1_tokens),length(q2_tokens))+SAFE_DIV),\n",
    "                         (length(token_features)+1))\n",
    "  \n",
    "  \n",
    "  \n",
    "  # Last word of both question is same or not\n",
    "\n",
    "  \n",
    "  if(q1_tokens[length(q1_tokens)]==q2_tokens[length(q2_tokens)]){\n",
    "    p=1\n",
    "  } else{\n",
    "    p=0\n",
    "  }\n",
    "  \n",
    "  token_features<-append(token_features,p,length(token_features)+1)\n",
    "  \n",
    "  # First word of both question is same or not\n",
    "  \n",
    "  \n",
    "  if(q1_tokens[[1]]==q2_tokens[[1]]){\n",
    "    p1=1\n",
    "  } else{\n",
    "    p1=0\n",
    "  }\n",
    "  \n",
    "  token_features<-append(token_features,p1,length(token_features)+1)\n",
    "  \n",
    "  \n",
    "  \n",
    "  token_features<-append(token_features,abs(length(q1_tokens) - length(q2_tokens)),length(token_features)+1)\n",
    "  \n",
    "  #Average Token Length of both Questions\n",
    "  token_features =append(token_features,((length(q1_tokens) + length(q2_tokens))/2),length(token_features)+1)\n",
    "  \n",
    "  return (token_features)\n",
    "  \n",
    "  \n",
    "}\n",
    "\n",
    "\n"
   ]
  },
  {
   "cell_type": "code",
   "execution_count": 39,
   "metadata": {},
   "outputs": [],
   "source": [
    "\n",
    "extract_features<-function(df){\n",
    "  \n",
    "  df$question1<-lapply(df$question1,function(x) preprocess(x))\n",
    "  df$question2<-lapply(df$question2,function(x) preprocess(x))\n",
    "  \n",
    "  dfa<-data.frame(df)\n",
    "  \n",
    "  dfa<-cbind(dfa$question1,dfa$question2)\n",
    "  dfa<-data.frame(dfa)\n",
    "  #library(stringr)\n",
    "  token_features = (lapply(1:nrow(dfa),function(x) unlist(get_token_features(unlist(dfa[x,\"X1\"]),unlist(dfa[x,\"X2\"])))))\n",
    "  \n",
    "  token_features<-do.call(rbind, token_features)\n",
    "  \n",
    "\n",
    " \n",
    "  \n",
    "  df$cwc_min       = token_features[,1]\n",
    "  df$cwc_max       = token_features[,2]\n",
    "  df$csc_min       = token_features[,3]\n",
    "  df$csc_max       = token_features[,4]\n",
    "  df$ctc_min       = token_features[,5]\n",
    "  df$ctc_max       = token_features[,6]\n",
    "  df$last_word_eq  = token_features[,7]\n",
    "  df$first_word_eq = token_features[,8]\n",
    "  df$abs_len_diff  = token_features[,9]\n",
    "  df$mean_len      = token_features[,10]\n",
    "  \n",
    "  \n",
    "\n",
    "\n",
    "\n",
    "  \n",
    "  #Computing Fuzzy Features and Merging with Dataset\n",
    "  #token_features = lapply(1:nrow(dfa),function(x) unlist(get_token_features(unlist(dfa[x,\"X1\"]),unlist(dfa[x,\"X2\"]))))\n",
    "  init = fuzzywuzzyR::FuzzMatcher$new() \n",
    "  \n",
    "  \n",
    "  df$token_set_ratio= unlist(lapply(1:nrow(dfa), function(x) unlist(init$Token_set_ratio(string1 =unlist(dfa[,\"X1\"][x]), \n",
    "  string2 =unlist(dfa[,\"X2\"][x]) , force_ascii = TRUE, full_process = TRUE))))\n",
    "  \n",
    "  df$token_sort_ratio=unlist(lapply(1:nrow(dfa), function(x) unlist(init$Token_sort_ratio(string1 =unlist(dfa[,\"X1\"][x]),\n",
    "  string2 =unlist(dfa[,\"X2\"][x]) , force_ascii = TRUE, full_process = TRUE))))\n",
    "  \n",
    "  df$fuzz_ratio=unlist(lapply(1:nrow(dfa),function(x) unlist(init$QRATIO(string1 =unlist(dfa[,\"X1\"][x]),\n",
    "  string2 =unlist(dfa[,\"X2\"][x]) , force_ascii = TRUE))))\n",
    "  \n",
    "  df$fuzz_partial_ratio=unlist(lapply(1:nrow(dfa),function(x) unlist(init$Partial_ratio(string1 =unlist(dfa[,\"X1\"][x]),\n",
    "  string2 =unlist(dfa[,\"X2\"][x])))))\n",
    "  \n",
    "  #df[\"longest_substr_ratio\"]=lapply(1:nrow(dfa),function(x) unlist(get_longest_substr_string(unlist(dfa[,\"X1\"][x]), unlist(dfa[,\"X2\"][x]))))\n",
    "  \n",
    "  \n",
    "  \n",
    "  df$question1<-dfa$X1\n",
    "  df$question2<-dfa$X2\n",
    "  return (df)\n",
    "  \n",
    "}\n"
   ]
  },
  {
   "cell_type": "code",
   "execution_count": null,
   "metadata": {},
   "outputs": [],
   "source": [
    "\n",
    "\n",
    "final_df<-extract_features(df)\n"
   ]
  },
  {
   "cell_type": "code",
   "execution_count": 42,
   "metadata": {},
   "outputs": [
    {
     "name": "stdout",
     "output_type": "stream",
     "text": [
      "[1] \"Number of data points in class 1 (duplicate pairs) : 74508\"\n",
      "[1] \"Number of data points in class 0 (non duplicate pairs) : 125492\"\n"
     ]
    }
   ],
   "source": [
    "\n",
    "#Plotting Word clouds\n",
    "#Creating Word Cloud of Duplicates and Non-Duplicates Question pairs\n",
    "#We can observe the most frequent occuring words\n",
    "\n",
    "df_duplicate<-subset(final_df,final_df$is_duplicate==1)\n",
    "df_nonduplicate<-subset(final_df,final_df$is_duplicate==0)\n",
    "\n",
    "# Converting 2d array of q1 and q2 and flatten the array: like {{1,2},{3,4}} to {1,2,3,4}\n",
    "p<-unlist(rbind(df_duplicate$question1,df_duplicate$question2))\n",
    "n<-unlist(rbind(df_nonduplicate$question1,df_nonduplicate$question2))\n",
    "\n",
    "\n",
    "\n",
    "print (paste(\"Number of data points in class 1 (duplicate pairs) :\",length(p)))\n",
    "print (paste(\"Number of data points in class 0 (non duplicate pairs) :\",length(n)))\n"
   ]
  },
  {
   "cell_type": "code",
   "execution_count": null,
   "metadata": {},
   "outputs": [],
   "source": [
    "\n",
    "#Saving the np array into a text file\n",
    "\n",
    "write.table(p, file = \"train_p.txt\", sep = \"\\t\",\n",
    "            row.names = TRUE, col.names = NA)\n",
    "write.table(n, file = \"train_n.txt\", sep = \"\\t\",\n",
    "            row.names = TRUE, col.names = NA)\n"
   ]
  },
  {
   "cell_type": "code",
   "execution_count": 43,
   "metadata": {},
   "outputs": [
    {
     "name": "stdout",
     "output_type": "stream",
     "text": [
      "[1] \"Total number of words in duplicate pair questions : 74509\"\n",
      "[1] \"Total number of words in non duplicate pair questions : 125493\"\n"
     ]
    }
   ],
   "source": [
    "\n",
    "textp_w<-read.table(\"train_p.txt\")\n",
    "textn_w<-read.table(\"train_n.txt\")\n",
    "textp_w<-textp_w[,2]\n",
    "textn_w<-textn_w[,2]\n",
    "\n",
    "stopwords<-c(stopwords(),\"said\",\"br\",\" \",\"not\",\"no\",\"like\",\"can\",\"best\")\n",
    "\n",
    "print (paste(\"Total number of words in duplicate pair questions :\",length(textp_w)))\n",
    "print (paste(\"Total number of words in non duplicate pair questions :\",length(textn_w)))\n"
   ]
  },
  {
   "cell_type": "code",
   "execution_count": 44,
   "metadata": {},
   "outputs": [
    {
     "name": "stdout",
     "output_type": "stream",
     "text": [
      " [1] \"question_correctly\"  \"quora_marks\"         \"quora_needing\"      \n",
      " [4] \"banning_rs\"          \"needing_improvement\" \"rs_500\"             \n",
      " [7] \"rs_1000\"             \"1000_notes\"          \"indian_economy\"     \n",
      "[10] \"make_dollar\"         \"feel_like\"           \"favorite_chinese\"   \n",
      "[13] \"chinese_foods\"       \"dollar_300\"          \"week_online\"        \n",
      "[16] \"chinese_food\"        \"banning_500\"         \"300_fast\"           \n",
      "[19] \"fast_online\"         \"1000_rupee\"         \n",
      " [1] \"snitches_treated\"     \"psychopaths_treated\"  \"serving_meat\"        \n",
      " [4] \"vegetarian_feta\"      \"feta_cheese\"          \"cheese_served\"       \n",
      " [7] \"one_react\"            \"ex_boyfriend\"         \"good_life\"           \n",
      "[10] \"good_books\"           \"life_sciences\"        \"sciences_journals\"   \n",
      "[13] \"web_application\"      \"publish_research\"     \"application_security\"\n",
      "[16] \"research_papers\"      \"papers_free\"          \"makar_sankranti\"     \n",
      "[19] \"good_journals\"        \"sankranti_kite\"      \n"
     ]
    }
   ],
   "source": [
    "\n",
    "library(wordcloud2)\n",
    "textp_w<-as.character(textp_w)\n",
    "textn_w<-as.character(textn_w)\n",
    "\n",
    "myDfm <- tokens(textp_w) %>%\n",
    "  tokens_remove(\"\\\\p{P}\", valuetype = \"regex\", padding = TRUE) %>%\n",
    "  tokens_remove(stopwords(\"english\"), padding  = TRUE) %>%\n",
    "  tokens_ngrams(n = 2) %>%\n",
    "  dfm()\n",
    "\n",
    "\n",
    "myDfmn <- tokens(textn_w) %>%\n",
    "  tokens_remove(\"\\\\p{P}\", valuetype = \"regex\", padding = TRUE) %>%\n",
    "  tokens_remove(stopwords(\"english\"), padding  = TRUE) %>%\n",
    "  tokens_ngrams(n = 2) %>%\n",
    "  dfm()\n",
    "\n",
    "\n",
    "myDfm<-featnames(myDfm)\n",
    "myDfmn<-featnames(myDfmn)\n",
    "\n",
    "print(myDfm[1:20])\n",
    "print(myDfmn[1:20])\n"
   ]
  },
  {
   "cell_type": "code",
   "execution_count": 45,
   "metadata": {},
   "outputs": [],
   "source": [
    "\n",
    "wrd_p<-as.data.frame(table(unlist(str_split(textp_w,\" \"))))\n",
    "wrd_n<-as.data.frame(table(unlist(str_split(textn_w,\" \"))))\n",
    "\n",
    " wrd_p<-wrd_p[!wrd_p$Var1 %in% stopwords,]\n",
    " wrd_n<-wrd_n[!wrd_n$Var1 %in% stopwords,]\n",
    "\n",
    "\n",
    "wrd_p<- wrd_p[order(wrd_p$Freq,decreasing = TRUE),]\n",
    "wrd_n<- wrd_n[order(wrd_n$Freq,decreasing = TRUE),]\n"
   ]
  },
  {
   "cell_type": "markdown",
   "metadata": {},
   "source": [
    "# Visualization\n"
   ]
  },
  {
   "cell_type": "code",
   "execution_count": 5,
   "metadata": {},
   "outputs": [],
   "source": [
    "\n",
    "#wordcloud2(wrd_p[1:100,],size = 14,backgroundColor = \"black\",color='random-dark')\n",
    "\n",
    "\n",
    "#wordcloud2(wrd_n[1:100,],size = 14,backgroundColor = \"black\",color='random-dark')\n",
    "\n",
    " \n"
   ]
  },
  {
   "cell_type": "code",
   "execution_count": 49,
   "metadata": {},
   "outputs": [
    {
     "data": {},
     "metadata": {},
     "output_type": "display_data"
    },
    {
     "data": {
      "image/png": "[encoded data removed]",
      "text/plain": [
       "plot without title"
      ]
     },
     "metadata": {},
     "output_type": "display_data"
    }
   ],
   "source": [
    "\n",
    "\n",
    "ggplot(data = final_df,aes(x=as.factor(is_duplicate),y=token_sort_ratio,fill=as.factor(is_duplicate)))+geom_violin()\n",
    "\n",
    "\n",
    "\n"
   ]
  },
  {
   "cell_type": "code",
   "execution_count": 48,
   "metadata": {},
   "outputs": [
    {
     "data": {},
     "metadata": {},
     "output_type": "display_data"
    },
    {
     "data": {
      "image/png": "[encoded data removed]",
      "text/plain": [
       "plot without title"
      ]
     },
     "metadata": {},
     "output_type": "display_data"
    }
   ],
   "source": [
    "ggplot(data = final_df,aes(x=as.factor(is_duplicate),y=fuzz_ratio,fill=as.factor(is_duplicate)))+geom_violin()"
   ]
  },
  {
   "cell_type": "code",
   "execution_count": 50,
   "metadata": {},
   "outputs": [],
   "source": [
    "\n",
    "df_tsne<-final_df %>% select('cwc_min', 'cwc_max', 'csc_min', 'csc_max' , 'ctc_min' , 'ctc_max' , 'last_word_eq', 'first_word_eq' , 'abs_len_diff' , 'mean_len' , 'token_set_ratio' , 'token_sort_ratio' ,  'fuzz_ratio' , 'fuzz_partial_ratio')\n",
    "df_tsne = cbind(final_df['is_duplicate'],df_tsne)\n",
    "normalize <- function(x)\n",
    "{\n",
    "  return((x- min(x)) /(max(x)-min(x)))\n",
    "}\n",
    "df_tsne<-data.frame(lapply(df_tsne,function(x) normalize(x)))\n"
   ]
  },
  {
   "cell_type": "code",
   "execution_count": 65,
   "metadata": {},
   "outputs": [
    {
     "data": {
      "text/html": [
       "<ol class=list-inline>\n",
       "\t<li>98517</li>\n",
       "\t<li>15</li>\n",
       "</ol>\n"
      ],
      "text/latex": [
       "\\begin{enumerate*}\n",
       "\\item 98517\n",
       "\\item 15\n",
       "\\end{enumerate*}\n"
      ],
      "text/markdown": [
       "1. 98517\n",
       "2. 15\n",
       "\n",
       "\n"
      ],
      "text/plain": [
       "[1] 98517    15"
      ]
     },
     "metadata": {},
     "output_type": "display_data"
    }
   ],
   "source": [
    "\n",
    "#install.packages(\"Rtsne\")\n",
    "## Curating the database for analysis with both t-SNE and PCA\n",
    "Labels<-df_tsne$is_duplicate\n",
    "df_tsne$is_duplicate<-as.factor(df_tsne$is_duplicate)\n",
    "## for plotting\n",
    "colors = rainbow(length(unique(df_tsne$is_duplicate)))\n",
    "names(colors) = unique(df_tsne$is_duplicate)\n",
    "df_tsne<-df_tsne %>% distinct()\n",
    "dim(df_tsne)\n"
   ]
  },
  {
   "cell_type": "code",
   "execution_count": 66,
   "metadata": {},
   "outputs": [
    {
     "name": "stdout",
     "output_type": "stream",
     "text": [
      "Performing PCA\n",
      "Read the 999 x 14 data matrix successfully!\n",
      "OpenMP is working. 1 threads.\n",
      "Using no_dims = 2, perplexity = 2.000000, and theta = 0.500000\n",
      "Computing input similarities...\n",
      "Building tree...\n",
      "Done in 0.03 seconds (sparsity = 0.008222)!\n",
      "Learning embedding...\n",
      "Iteration 50: error is 99.642271 (50 iterations in 0.28 seconds)\n",
      "Iteration 100: error is 81.900206 (50 iterations in 0.16 seconds)\n",
      "Iteration 150: error is 76.555356 (50 iterations in 0.15 seconds)\n",
      "Iteration 200: error is 73.642106 (50 iterations in 0.15 seconds)\n",
      "Iteration 250: error is 71.760485 (50 iterations in 0.14 seconds)\n",
      "Iteration 300: error is 1.969582 (50 iterations in 0.14 seconds)\n",
      "Iteration 350: error is 1.383779 (50 iterations in 0.21 seconds)\n",
      "Iteration 400: error is 1.164855 (50 iterations in 0.15 seconds)\n",
      "Iteration 450: error is 1.049573 (50 iterations in 0.14 seconds)\n",
      "Iteration 500: error is 0.979651 (50 iterations in 0.15 seconds)\n",
      "Fitting performed in 1.66 seconds.\n",
      "Performing PCA\n",
      "Read the 999 x 14 data matrix successfully!\n",
      "OpenMP is working. 1 threads.\n",
      "Using no_dims = 2, perplexity = 5.000000, and theta = 0.500000\n",
      "Computing input similarities...\n",
      "Building tree...\n",
      "Done in 0.05 seconds (sparsity = 0.019942)!\n",
      "Learning embedding...\n",
      "Iteration 50: error is 88.306683 (50 iterations in 0.19 seconds)\n",
      "Iteration 100: error is 72.967744 (50 iterations in 0.15 seconds)\n",
      "Iteration 150: error is 70.323067 (50 iterations in 0.20 seconds)\n",
      "Iteration 200: error is 69.073992 (50 iterations in 0.15 seconds)\n",
      "Iteration 250: error is 68.363471 (50 iterations in 0.14 seconds)\n",
      "Iteration 300: error is 1.601207 (50 iterations in 0.15 seconds)\n",
      "Iteration 350: error is 1.164583 (50 iterations in 0.19 seconds)\n",
      "Iteration 400: error is 1.020864 (50 iterations in 0.14 seconds)\n",
      "Iteration 450: error is 0.959366 (50 iterations in 0.15 seconds)\n",
      "Iteration 500: error is 0.926370 (50 iterations in 0.16 seconds)\n",
      "Fitting performed in 1.63 seconds.\n"
     ]
    },
    {
     "data": {
      "image/png": "[encoded data removed]",
      "text/plain": [
       "plot without title"
      ]
     },
     "metadata": {},
     "output_type": "display_data"
    },
    {
     "name": "stdout",
     "output_type": "stream",
     "text": [
      "Performing PCA\n",
      "Read the 999 x 14 data matrix successfully!\n",
      "OpenMP is working. 1 threads.\n",
      "Using no_dims = 2, perplexity = 30.000000, and theta = 0.500000\n",
      "Computing input similarities...\n",
      "Building tree...\n",
      "Done in 0.22 seconds (sparsity = 0.112298)!\n",
      "Learning embedding...\n",
      "Iteration 50: error is 61.895548 (50 iterations in 0.30 seconds)\n",
      "Iteration 100: error is 56.175018 (50 iterations in 0.20 seconds)\n",
      "Iteration 150: error is 55.211855 (50 iterations in 0.19 seconds)\n",
      "Iteration 200: error is 54.775797 (50 iterations in 0.19 seconds)\n",
      "Iteration 250: error is 54.516729 (50 iterations in 0.20 seconds)\n",
      "Iteration 300: error is 0.850946 (50 iterations in 0.16 seconds)\n",
      "Iteration 350: error is 0.677768 (50 iterations in 0.16 seconds)\n",
      "Iteration 400: error is 0.634853 (50 iterations in 0.16 seconds)\n",
      "Iteration 450: error is 0.618704 (50 iterations in 0.16 seconds)\n",
      "Iteration 500: error is 0.606682 (50 iterations in 0.17 seconds)\n",
      "Fitting performed in 1.88 seconds.\n"
     ]
    },
    {
     "data": {
      "image/png": "[encoded data removed]",
      "text/plain": [
       "plot without title"
      ]
     },
     "metadata": {},
     "output_type": "display_data"
    },
    {
     "name": "stdout",
     "output_type": "stream",
     "text": [
      "Performing PCA\n",
      "Read the 999 x 14 data matrix successfully!\n",
      "OpenMP is working. 1 threads.\n",
      "Using no_dims = 2, perplexity = 50.000000, and theta = 0.500000\n",
      "Computing input similarities...\n",
      "Building tree...\n",
      "Done in 0.34 seconds (sparsity = 0.186707)!\n",
      "Learning embedding...\n",
      "Iteration 50: error is 56.303535 (50 iterations in 0.20 seconds)\n",
      "Iteration 100: error is 51.229890 (50 iterations in 0.20 seconds)\n",
      "Iteration 150: error is 50.469048 (50 iterations in 0.17 seconds)\n",
      "Iteration 200: error is 50.155546 (50 iterations in 0.19 seconds)\n",
      "Iteration 250: error is 49.968857 (50 iterations in 0.19 seconds)\n",
      "Iteration 300: error is 0.644654 (50 iterations in 0.18 seconds)\n",
      "Iteration 350: error is 0.518089 (50 iterations in 0.17 seconds)\n",
      "Iteration 400: error is 0.480773 (50 iterations in 0.19 seconds)\n",
      "Iteration 450: error is 0.463201 (50 iterations in 0.19 seconds)\n",
      "Iteration 500: error is 0.454441 (50 iterations in 0.17 seconds)\n",
      "Fitting performed in 1.85 seconds.\n"
     ]
    },
    {
     "data": {
      "image/png": "[encoded data removed]",
      "text/plain": [
       "plot without title"
      ]
     },
     "metadata": {},
     "output_type": "display_data"
    },
    {
     "name": "stdout",
     "output_type": "stream",
     "text": [
      "Performing PCA\n",
      "Read the 999 x 14 data matrix successfully!\n",
      "OpenMP is working. 1 threads.\n",
      "Using no_dims = 2, perplexity = 100.000000, and theta = 0.500000\n",
      "Computing input similarities...\n",
      "Building tree...\n",
      "Done in 0.73 seconds (sparsity = 0.351593)!\n",
      "Learning embedding...\n",
      "Iteration 50: error is 50.021376 (50 iterations in 0.26 seconds)\n",
      "Iteration 100: error is 45.827956 (50 iterations in 0.25 seconds)\n",
      "Iteration 150: error is 45.547321 (50 iterations in 0.35 seconds)\n",
      "Iteration 200: error is 45.429631 (50 iterations in 0.30 seconds)\n",
      "Iteration 250: error is 45.378316 (50 iterations in 0.27 seconds)\n",
      "Iteration 300: error is 0.344767 (50 iterations in 0.26 seconds)\n",
      "Iteration 350: error is 0.277537 (50 iterations in 0.25 seconds)\n",
      "Iteration 400: error is 0.263005 (50 iterations in 0.22 seconds)\n",
      "Iteration 450: error is 0.256388 (50 iterations in 0.20 seconds)\n",
      "Iteration 500: error is 0.254201 (50 iterations in 0.22 seconds)\n",
      "Fitting performed in 2.57 seconds.\n"
     ]
    },
    {
     "data": {
      "image/png": "[encoded data removed]",
      "text/plain": [
       "plot without title"
      ]
     },
     "metadata": {},
     "output_type": "display_data"
    },
    {
     "name": "stdout",
     "output_type": "stream",
     "text": [
      "Performing PCA\n",
      "Read the 999 x 14 data matrix successfully!\n",
      "OpenMP is working. 1 threads.\n",
      "Using no_dims = 2, perplexity = 150.000000, and theta = 0.500000\n",
      "Computing input similarities...\n",
      "Building tree...\n",
      "Done in 1.14 seconds (sparsity = 0.509052)!\n",
      "Learning embedding...\n",
      "Iteration 50: error is 51.734763 (50 iterations in 0.31 seconds)\n",
      "Iteration 100: error is 44.778453 (50 iterations in 0.28 seconds)\n",
      "Iteration 150: error is 44.629380 (50 iterations in 0.28 seconds)\n",
      "Iteration 200: error is 44.680547 (50 iterations in 0.28 seconds)\n",
      "Iteration 250: error is 44.732740 (50 iterations in 0.28 seconds)\n",
      "Iteration 300: error is 0.229776 (50 iterations in 0.25 seconds)\n",
      "Iteration 350: error is 0.190125 (50 iterations in 0.25 seconds)\n",
      "Iteration 400: error is 0.181835 (50 iterations in 0.25 seconds)\n",
      "Iteration 450: error is 0.179297 (50 iterations in 0.25 seconds)\n",
      "Iteration 500: error is 0.177103 (50 iterations in 0.27 seconds)\n",
      "Fitting performed in 2.71 seconds.\n"
     ]
    },
    {
     "data": {
      "image/png": "[encoded data removed]",
      "text/plain": [
       "plot without title"
      ]
     },
     "metadata": {},
     "output_type": "display_data"
    },
    {
     "data": {
      "image/png": "[encoded data removed]",
      "text/plain": [
       "plot without title"
      ]
     },
     "metadata": {},
     "output_type": "display_data"
    }
   ],
   "source": [
    "\n",
    "\n",
    "\n",
    "for(i in perplexity_values){\n",
    "  tsne <- Rtsne(train[,-1], dims = 2, perplexity=i, verbose=TRUE, max_iter=500, eta=200)\n",
    "  tsne_plot <- data.frame(x = tsne$Y[,1], y = tsne$Y[,2], col = train$is_duplicate)\n",
    "  p<-ggplot(tsne_plot) + geom_point(aes(x=x, y=y, color=col))\n",
    "  plot(p)\n",
    "  \n",
    "  \n",
    "}\n",
    "perplexity_values <- c(2,5,30,50,100,150)\n",
    "\n"
   ]
  },
  {
   "cell_type": "code",
   "execution_count": null,
   "metadata": {},
   "outputs": [],
   "source": [
    "\n",
    "final_df<-data.frame(final_df)\n",
    "final_df<-apply(final_df,2,as.character)\n",
    "write.csv(final_df,\"E:/Quora Question Pair/R/df_final.csv\")\n"
   ]
  }
 ],
 "metadata": {
  "kernelspec": {
   "display_name": "Python 3",
   "language": "python",
   "name": "python3"
  },
  "language_info": {
   "codemirror_mode": {
    "name": "ipython",
    "version": 3
   },
   "file_extension": ".py",
   "mimetype": "text/x-python",
   "name": "python",
   "nbconvert_exporter": "python",
   "pygments_lexer": "ipython3",
   "version": "3.6.8"
  }
 },
 "nbformat": 4,
 "nbformat_minor": 2
}
